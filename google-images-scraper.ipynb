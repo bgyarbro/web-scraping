{
 "cells": [
  {
   "cell_type": "code",
   "execution_count": 1,
   "metadata": {},
   "outputs": [],
   "source": [
    "import signal"
   ]
  },
  {
   "cell_type": "code",
   "execution_count": 2,
   "metadata": {},
   "outputs": [],
   "source": [
    "import time\n",
    "import io\n",
    "from PIL import Image\n",
    "import hashlib\n",
    "import requests\n",
    "import os\n",
    "import pandas as pd\n",
    "from bs4 import BeautifulSoup\n",
    "import selenium\n",
    "from selenium import webdriver"
   ]
  },
  {
   "cell_type": "code",
   "execution_count": 3,
   "metadata": {},
   "outputs": [],
   "source": [
    "search_term = \"football\"\n",
    "num_images = 50"
   ]
  },
  {
   "cell_type": "code",
   "execution_count": 4,
   "metadata": {},
   "outputs": [],
   "source": [
    "# This is the path I use\n",
    "# DRIVER_PATH = '.../Desktop/Scraping/chromedriver 2'\n",
    "# Put the path for your ChromeDriver here\n",
    "DRIVER_PATH = \"/home/brad/Documents/scraping/chromedriver_linux64/chromedriver\"\n",
    "wd = webdriver.Chrome(executable_path=DRIVER_PATH)"
   ]
  },
  {
   "cell_type": "code",
   "execution_count": 5,
   "metadata": {},
   "outputs": [],
   "source": [
    "def fetch_image_urls(query:str, max_links_to_fetch:int, wd:webdriver, sleep_between_interactions:int=1):\n",
    "    def scroll_to_end(wd):\n",
    "        wd.execute_script(\"window.scrollTo(0, document.body.scrollHeight);\")\n",
    "        time.sleep(sleep_between_interactions)    \n",
    "    \n",
    "    # build the google query\n",
    "    search_url = \"https://www.google.com/search?safe=off&site=&tbm=isch&source=hp&q={q}&oq={q}&gs_l=img\"\n",
    "\n",
    "    # load the page\n",
    "    wd.get(search_url.format(q=query))\n",
    "\n",
    "    image_urls = set()\n",
    "    image_count = 0\n",
    "    results_start = 0\n",
    "    while image_count < max_links_to_fetch:\n",
    "        scroll_to_end(wd)\n",
    "\n",
    "        # get all image thumbnail results\n",
    "        thumbnail_results = wd.find_elements_by_css_selector(\"img.Q4LuWd\")\n",
    "        number_results = len(thumbnail_results)\n",
    "        \n",
    "        print(f\"Found: {number_results} search results. Extracting links from {results_start}:{number_results}\")\n",
    "        \n",
    "        for img in thumbnail_results[results_start:number_results]:\n",
    "            # try to click every thumbnail such that we can get the real image behind it\n",
    "            try:\n",
    "                img.click()\n",
    "                time.sleep(sleep_between_interactions)\n",
    "            except Exception:\n",
    "                continue\n",
    "\n",
    "            # extract image urls    \n",
    "            actual_images = wd.find_elements_by_css_selector('img.n3VNCb')\n",
    "            for actual_image in actual_images:\n",
    "                if actual_image.get_attribute('src') and 'http' in actual_image.get_attribute('src'):\n",
    "                    image_urls.add(actual_image.get_attribute('src'))\n",
    "\n",
    "            image_count = len(image_urls)\n",
    "\n",
    "            if len(image_urls) >= max_links_to_fetch:\n",
    "                print(f\"Found: {len(image_urls)} image links, done!\")\n",
    "                break\n",
    "        else:\n",
    "            print(\"Found:\", len(image_urls), \"image links, looking for more ...\")\n",
    "            time.sleep(30)\n",
    "            return\n",
    "            load_more_button = wd.find_element_by_css_selector(\".mye4qd\")\n",
    "            if load_more_button:\n",
    "                wd.execute_script(\"document.querySelector('.mye4qd').click();\")\n",
    "\n",
    "        # move the result startpoint further down\n",
    "        results_start = len(thumbnail_results)\n",
    "\n",
    "    return image_urls"
   ]
  },
  {
   "cell_type": "code",
   "execution_count": 6,
   "metadata": {},
   "outputs": [],
   "source": [
    "def persist_image(folder_path,url):\n",
    "    try:\n",
    "        image_content = requests.get(url).content\n",
    "\n",
    "    except Exception as e:\n",
    "        print(f\"ERROR - Could not download {url} - {e}\")\n",
    "\n",
    "    try:\n",
    "        image_file = io.BytesIO(image_content)\n",
    "        image = Image.open(image_file).convert('RGB')\n",
    "        file_path = os.path.join(folder_path,hashlib.sha1(image_content).hexdigest()[:10] + '.jpg')\n",
    "        with open(file_path, 'wb') as f:\n",
    "            image.save(f, \"JPEG\", quality=85)\n",
    "        print(f\"SUCCESS - saved {url} - as {file_path}\")\n",
    "    except Exception as e:\n",
    "        print(f\"ERROR - Could not save {url} - {e}\")"
   ]
  },
  {
   "cell_type": "markdown",
   "metadata": {},
   "source": [
    "def search_and_download(search_term:str,driver_path:str,target_path='./images',number_images=5):\n",
    "    target_folder = os.path.join(target_path,'_'.join(search_term.lower().split(' ')))\n",
    "\n",
    "    if not os.path.exists(target_folder):\n",
    "        os.makedirs(target_folder)\n",
    "\n",
    "    with webdriver.Chrome(executable_path=driver_path) as wd:\n",
    "        res = fetch_image_urls(search_term, number_images, wd=wd, sleep_between_interactions=0.5)\n",
    "        \n",
    "    for elem in res:\n",
    "        persist_image(target_folder,elem)"
   ]
  },
  {
   "cell_type": "code",
   "execution_count": 7,
   "metadata": {},
   "outputs": [],
   "source": [
    "def handler(signum, frame):\n",
    "    print(\"Forever is over!\")\n",
    "    raise Exception(\"end of time\")"
   ]
  },
  {
   "cell_type": "code",
   "execution_count": 8,
   "metadata": {},
   "outputs": [],
   "source": [
    "def search_and_download(search_term:str,driver_path:str,target_path='./images',number_images=5):\n",
    "    target_folder = os.path.join(target_path,'_'.join(search_term.lower().split(' ')))\n",
    "\n",
    "    if not os.path.exists(target_folder):\n",
    "        os.makedirs(target_folder)\n",
    "\n",
    "    wd = webdriver.Chrome(executable_path=driver_path)\n",
    "    res = fetch_image_urls(search_term, number_images, wd=wd, sleep_between_interactions=0.5)\n",
    "    \n",
    "    #signal.signal(signal.SIGALRM, handler)\n",
    "    \n",
    "    for i, elem in enumerate(res):\n",
    "        #signal.alarm(20)\n",
    "        try:\n",
    "            persist_image(target_folder,elem)\n",
    "        except Exception as exc:\n",
    "            print(str(i) + \" took too long\")\n",
    "            print(exc)\n",
    "    \n",
    "    wd.quit()"
   ]
  },
  {
   "cell_type": "code",
   "execution_count": 9,
   "metadata": {},
   "outputs": [
    {
     "name": "stdout",
     "output_type": "stream",
     "text": [
      "Found: 100 search results. Extracting links from 0:100\n",
      "Found: 51 image links, done!\n",
      "SUCCESS - saved https://hokiesports.com/images/2020/5/29/ball_16FB_lu_DK_1307E.jpg - as ./images/football/eaef36694f.jpg\n",
      "SUCCESS - saved https://townsquare.media/site/380/files/2019/04/Football-generic.jpg?w=980&q=75 - as ./images/football/da6565ef9e.jpg\n",
      "SUCCESS - saved https://encrypted-tbn0.gstatic.com/images?q=tbn%3AANd9GcRScvHJR_eC-28eQzm1N93v-cNZIQ96lVDP4w&usqp=CAU - as ./images/football/43778d2bb3.jpg\n",
      "SUCCESS - saved https://encrypted-tbn0.gstatic.com/images?q=tbn%3AANd9GcRqcyuXR13ktnEL8197rnwjSVeeqxXy09kJgA&usqp=CAU - as ./images/football/0432d287f5.jpg\n",
      "SUCCESS - saved https://www.al.com/resizer/aMAV3u0xmkHfc0uNkOVbIEcZxXM=/450x0/smart/cloudfront-us-east-1.images.arcpublishing.com/advancelocal/IHEQ7CJUVRGWTJ4BDYXYSNRHVQ.jpg - as ./images/football/38ede51301.jpg\n",
      "SUCCESS - saved https://sportsnaut.com/wp-content/uploads/2020/04/USATSI_13846797_168386999_lowres-scaled.jpg - as ./images/football/958bc63de6.jpg\n",
      "SUCCESS - saved https://d2s94cyhu2tzlj.cloudfront.net/assets/photos/2020/high-school-football-delayed-2-weeks-in-georgia-amid-covid-19/_articlePhotoFull/qtq80-7JnbND-980x697.jpg?mtime=20200720190657 - as ./images/football/5ababb46e6.jpg\n",
      "SUCCESS - saved https://wehco.media.clients.ellingtoncms.com/img/photos/2020/04/08/AP_138500401768_r600x400.jpg?689b03237e9432d372b8e4e059d8b6cfaff1b604 - as ./images/football/f2260697ae.jpg\n",
      "SUCCESS - saved https://a.espncdn.com/combiner/i?img=/redesign/assets/img/icons/ESPN-icon-football-college.png&w=288&h=288&transparent=true - as ./images/football/ccc92e518d.jpg\n",
      "SUCCESS - saved https://encrypted-tbn0.gstatic.com/images?q=tbn%3AANd9GcQdFZS-rfyohU80GIT8o1Jh2KLHJWPEQI2dyg&usqp=CAU - as ./images/football/bd6e4d87bd.jpg\n",
      "SUCCESS - saved https://encrypted-tbn0.gstatic.com/images?q=tbn%3AANd9GcQi8-UJtl3qLi93FFNe02k_qT98o8RoO7clUQ&usqp=CAU - as ./images/football/7501d9272d.jpg\n",
      "SUCCESS - saved https://encrypted-tbn0.gstatic.com/images?q=tbn%3AANd9GcTdLcVK7MZFI_eJnROvZWViwwmK9KQvVzE7-w&usqp=CAU - as ./images/football/350f8af886.jpg\n",
      "SUCCESS - saved https://www.gannett-cdn.com/presto/2020/06/17/USAT/e3ae4f05-3a2e-4f2b-83f5-4a91b01614e7-USP_NCAA_Football__Fiesta_Bowl-Penn_State_vs_Washi_x.JPG?crop=3199,1799,x0,y160&width=3199&height=1799&format=pjpg&auto=webp - as ./images/football/479c50f349.jpg\n",
      "SUCCESS - saved https://encrypted-tbn0.gstatic.com/images?q=tbn%3AANd9GcRZq4bVphu-Wbhd3uWHPoEEtEtI6Jzm3E7sKg&usqp=CAU - as ./images/football/cdb429be4e.jpg\n",
      "SUCCESS - saved https://encrypted-tbn0.gstatic.com/images?q=tbn%3AANd9GcSiaikSRPGUY9UPEeIJUPtQq15Dq0-oZai_pg&usqp=CAU - as ./images/football/09926466ed.jpg\n",
      "SUCCESS - saved https://static.clubs.nfl.com/image/private/t_editorial_landscape_12_desktop/v1587512390/falcons/onhote1bth6zouml9ygd - as ./images/football/bdc7666c67.jpg\n",
      "SUCCESS - saved https://encrypted-tbn0.gstatic.com/images?q=tbn%3AANd9GcR8MU_tqTP2n7b_NyJgpEKoAnQAFRTfrCrh8Q&usqp=CAU - as ./images/football/e681f16358.jpg\n",
      "SUCCESS - saved https://www.clickorlando.com/resizer/6MZSzgo52qpq3xPS4bdJt4FrToY=/1600x1066/smart/filters:format(jpeg):strip_exif(true):strip_icc(true):no_upscale(true):quality(65)/cloudfront-us-east-1.images.arcpublishing.com/gmg/QCZX7VEYB5HBPG2GDJL2LDVXTQ.jpg - as ./images/football/1ffeea9fcd.jpg\n",
      "SUCCESS - saved https://static.www.nfl.com/image/private/t_editorial_landscape_8_desktop_mobile/league/uecqonpcbt3dxbrhabz4.jpg - as ./images/football/e86b119874.jpg\n",
      "SUCCESS - saved https://d39w7f4ix9f5s9.cloudfront.net/dims4/default/00a6dcd/2147483647/strip/true/crop/3888x1755+0+110/resize/1440x650!/quality/90/?url=http%3A%2F%2Famazon-blogs-brightspot.s3.amazonaws.com%2F31%2F96%2F0ab6f148452e9cf744d9e6a9cf28%2Fistock-92024772-1.jpg - as ./images/football/3500d96dcf.jpg\n",
      "SUCCESS - saved https://static.clubs.nfl.com/image/private/t_editorial_landscape_8_desktop_mobile/f_auto/cardinals/ydgdhzinoj5yflx6ccwy.jpg - as ./images/football/bd4ba53af1.jpg\n",
      "SUCCESS - saved https://encrypted-tbn0.gstatic.com/images?q=tbn%3AANd9GcTtN7GPbdHBiw_j6-oEc3H4p2Xtc5JX5n8wxQ&usqp=CAU - as ./images/football/58a7e8545e.jpg\n",
      "SUCCESS - saved https://encrypted-tbn0.gstatic.com/images?q=tbn%3AANd9GcSK1W-1sh0Ml6fhV1C_jHY8CbXfs6PBf_Kv5w&usqp=CAU - as ./images/football/697f1556b2.jpg\n",
      "SUCCESS - saved https://encrypted-tbn0.gstatic.com/images?q=tbn%3AANd9GcRf-qulbi-5SiPY3g3lwyJ6dh7ewtgbuqTVsQ&usqp=CAU - as ./images/football/fafa02a162.jpg\n",
      "SUCCESS - saved https://encrypted-tbn0.gstatic.com/images?q=tbn%3AANd9GcRrUc0v0XCspJRBJz_LJTGkUoxHYJN3TA7hwg&usqp=CAU - as ./images/football/562bed3799.jpg\n",
      "SUCCESS - saved https://encrypted-tbn0.gstatic.com/images?q=tbn%3AANd9GcSFdKLY9gTMvbiX9RQYH1Wm9UNwApLOjhXWpg&usqp=CAU - as ./images/football/6c7de1963e.jpg\n",
      "SUCCESS - saved https://a.espncdn.com/combiner/i?img=/photo/2019/1129/r634706_1296x729_16-9.jpg - as ./images/football/3c569a99ab.jpg\n",
      "SUCCESS - saved https://imageproxy.themaven.net/https%3A%2F%2Fwww.si.com%2F.image%2FMTc0MTIzMTkwMTQ5MTk1MzMw%2Fcollege-football-contact-tracing-lsu-vs-clemson.jpg - as ./images/football/8484c1e1f7.jpg\n",
      "SUCCESS - saved https://shop.wilson.com/media/catalog/product/cache/38/image/1800x/040ec09b1e35df139433887a97daa66f/f/a/fab0bca95e424cfda23dfb4755b521a29ea18cdf_WTF1100IDBRS_3_NFL_101_Game_Ball_Official.jpeg - as ./images/football/8526f8759b.jpg\n",
      "SUCCESS - saved https://www.keloland.com/wp-content/uploads/sites/103/2019/06/KELO-sports-generic-football_1529437981732_46004174_ver1.0-1.jpg?w=1280&h=720&crop=1 - as ./images/football/fd3e6dd495.jpg\n",
      "SUCCESS - saved https://encrypted-tbn0.gstatic.com/images?q=tbn%3AANd9GcTmj44UnXTCDoVloUkwPSPEX29zkEWwdaTs5Q&usqp=CAU - as ./images/football/abdbfe703b.jpg\n",
      "SUCCESS - saved https://static.www.nfl.com/image/private/t_editorial_landscape_8_desktop_mobile/f_auto/league/tlktqk2q24hdmilt59b5.jpg - as ./images/football/0ae09afbf9.jpg\n",
      "SUCCESS - saved https://encrypted-tbn0.gstatic.com/images?q=tbn%3AANd9GcTQmViwdUNmmUw_ayZwlWkLUr-JHDzvFUX-0g&usqp=CAU - as ./images/football/75a01b2840.jpg\n",
      "SUCCESS - saved https://static.www.nfl.com/image/private/t_editorial_landscape_8_desktop_mobile/f_auto/league/k11lavaypvy7yakugoul.jpg - as ./images/football/fd99951af3.jpg\n",
      "SUCCESS - saved https://upload.wikimedia.org/wikipedia/commons/b/b9/Football_iu_1996.jpg - as ./images/football/882755425d.jpg\n",
      "SUCCESS - saved https://lh3.googleusercontent.com/proxy/8EmsnnGEFA3o07N_-oBxNsncP1x1SaqOLWeXHT_2svO8kjaKnqPZE-vCJgnOpw1l1kWEj--kt_zteQfANoKVIj1Nkn0aS6D4OPMNXdAdS3rbpIN_n0cghgdJpRGlLL_rykvKDG2ql2tSiDWTyID-KvS7j3ABKikr-7DE9N77R8PjjlIM8elW74YKAj8KvfiIN2N8EbuDyFbBS7MO-EwlKkeY4lecIrYlbVRXQomelBxq - as ./images/football/27df1d4634.jpg\n",
      "SUCCESS - saved https://www.iahsaa.org/wp-content/uploads/2020/03/Football-A-2019-3.26.20-1080x675.jpg - as ./images/football/a29f888bac.jpg\n",
      "SUCCESS - saved https://encrypted-tbn0.gstatic.com/images?q=tbn%3AANd9GcS87wAUKPuZZUR2PLuvY6_gDYyOmB3fr79XUg&usqp=CAU - as ./images/football/13f64951ef.jpg\n",
      "SUCCESS - saved https://img.fifa.com/image/upload/t_s3/v1596802540/tiapqrsrnz3sa4lur5vn.jpg - as ./images/football/c6c390d6be.jpg\n",
      "SUCCESS - saved https://cdn.footballoutsiders.net/files/styles/featured_article_large/public/coverphotos/KittleGeo17_6.jpg?h=2ac6e827 - as ./images/football/7d78989763.jpg\n",
      "SUCCESS - saved https://www.ncaa.com/_flysystem/public-s3/styles/stax_large_content_tile/public-s3/tile-images/hero/FBS-stock.JPG?h=a03041f7&itok=jq_miNpT - as ./images/football/2c5f4dfd19.jpg\n",
      "SUCCESS - saved https://ca-times.brightspotcdn.com/dims4/default/7956ff8/2147483647/strip/true/crop/534x401+0+0/resize/840x631!/quality/90/?url=https%3A%2F%2Fcalifornia-times-brightspot.s3.amazonaws.com%2Fdc%2Ff8%2F4dad19a24560946ea7c408c2d7e2%2Ffootball.jpg - as ./images/football/ed3a78c4e3.jpg\n",
      "SUCCESS - saved https://encrypted-tbn0.gstatic.com/images?q=tbn%3AANd9GcQD2zfLOMY_D1IoN262q46134htPX8ymftNfg&usqp=CAU - as ./images/football/6d7e0ef7a2.jpg\n",
      "SUCCESS - saved https://a.espncdn.com/combiner/i?img=/photo/2020/0722/r722336_1296x729_16-9.jpg - as ./images/football/97759bdc1a.jpg\n",
      "SUCCESS - saved https://encrypted-tbn0.gstatic.com/images?q=tbn%3AANd9GcRSLU2UM2GERwYS6d_u3y675Mhmeu16oTE8dA&usqp=CAU - as ./images/football/202ddcbed4.jpg\n",
      "SUCCESS - saved https://sportshub.cbsistatic.com/i/r/2019/09/26/f81faf11-54b5-4c2f-9d7f-d129b9e45803/thumbnail/1200x675/beefd31357d4275a3ae41939e2b02019/college-football-general.jpg - as ./images/football/49590aff07.jpg\n"
     ]
    },
    {
     "name": "stdout",
     "output_type": "stream",
     "text": [
      "SUCCESS - saved https://img.bleacherreport.net/cms/media/image/a9/e6/b8/8f/b4ba/4101/90f4/bff7c523eaf4/crop_exact_Sanch.jpg?q=90&w=1440&h=960 - as ./images/football/33a01fb35f.jpg\n",
      "SUCCESS - saved https://static.clubs.nfl.com/image/private/t_editorial_landscape_12_desktop/ravens/zayzsqxqudlxtbsifpp9 - as ./images/football/1da5346200.jpg\n",
      "SUCCESS - saved https://i.ytimg.com/vi/8lvpn2K1_-o/maxresdefault.jpg - as ./images/football/b107c44010.jpg\n",
      "SUCCESS - saved https://sportshub.cbsistatic.com/i/r/2019/01/02/1682c482-3750-4230-a8e4-56bd644565d8/thumbnail/1200x675/30a8f52789b0a375af42f72619f91904/cfp-logo-football.jpg - as ./images/football/6d472fb12c.jpg\n",
      "SUCCESS - saved https://www.gannett-cdn.com/presto/2019/12/29/USAT/c8d166b5-fef2-4c7f-9959-7c16472a9a35-USATSI_13846795.jpg?crop=3473,1954,x1,y215&width=3200&height=1801&format=pjpg&auto=webp - as ./images/football/6c8dd7ccde.jpg\n"
     ]
    }
   ],
   "source": [
    "search_and_download(search_term=search_term,\n",
    "                   driver_path=DRIVER_PATH,\n",
    "                   number_images=num_images)"
   ]
  },
  {
   "cell_type": "code",
   "execution_count": null,
   "metadata": {},
   "outputs": [],
   "source": []
  }
 ],
 "metadata": {
  "kernelspec": {
   "display_name": "Python 3",
   "language": "python",
   "name": "python3"
  },
  "language_info": {
   "codemirror_mode": {
    "name": "ipython",
    "version": 3
   },
   "file_extension": ".py",
   "mimetype": "text/x-python",
   "name": "python",
   "nbconvert_exporter": "python",
   "pygments_lexer": "ipython3",
   "version": "3.8.3"
  }
 },
 "nbformat": 4,
 "nbformat_minor": 4
}
